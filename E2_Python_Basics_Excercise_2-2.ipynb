{
 "cells": [
  {
   "cell_type": "markdown",
   "id": "8d6e1bdf",
   "metadata": {},
   "source": [
    "### <span style=\"color: red\"> Task 1:</span> Some errors are presented in the code below. Can you identify and corret them?"
   ]
  },
  {
   "cell_type": "code",
   "execution_count": 27,
   "id": "f7ff1f43",
   "metadata": {},
   "outputs": [
    {
     "name": "stdout",
     "output_type": "stream",
     "text": [
      "This task is too simple , I want more challenges\n",
      "<class 'str'>\n"
     ]
    }
   ],
   "source": [
    "import os\n",
    "import csv\n",
    "\n",
    "current_dir = os.getcwd()\n",
    "filename = current_dir+'\\\\E1_T1.csv'\n",
    "with open(filename, 'r', newline='') as f:\n",
    "    csv_file = csv.reader(f)\n",
    "    data = list(csv_file)\n",
    "for word in data:\n",
    "    sentence=' '.join(word)\n",
    "print(sentence)\n",
    "print(type(sentence))"
   ]
  },
  {
   "cell_type": "markdown",
   "id": "b74afc9e",
   "metadata": {},
   "source": [
    "### <span style=\"color: red\"> Task 2:</span> Who has the most runner-up finishes in the histroy of NHL? Create a table with the teams and their runner-up finishes. The table must contain the the following columns:\n",
    "\n",
    "-Team\n",
    "\n",
    "-Total number of runner-up finishes\n",
    "\n",
    "-Years [list of the years they finished as a runner-up]\n",
    "\n",
    "You have to use Jupyter for the practice and produce a notebook with good readability."
   ]
  },
  {
   "cell_type": "markdown",
   "id": "5e4f2d63",
   "metadata": {},
   "source": [
    "### <span style=\"color: blue\"> Solution:</span>"
   ]
  },
  {
   "cell_type": "code",
   "execution_count": 39,
   "id": "8efa3004",
   "metadata": {},
   "outputs": [
    {
     "name": "stdout",
     "output_type": "stream",
     "text": [
      "                      Team  #Runner-up Finish  \\\n",
      "1       Montreal Canadiens                 24   \n",
      "2        Detroit Red Wings                 11   \n",
      "3      Toronto Maple Leafs                 11   \n",
      "4            Boston Bruins                  6   \n",
      "5          Edmonton Oilers                  5   \n",
      "6          Ottawa Senators                  5   \n",
      "7      Pittsburgh Penguins                  5   \n",
      "8       Chicago Blackhawks                  5   \n",
      "9         New York Rangers                  4   \n",
      "10      New York Islanders                  4   \n",
      "11       New Jersey Devils                  3   \n",
      "12        Montreal Maroons                  2   \n",
      "13     Philadelphia Flyers                  2   \n",
      "14     Tampa Bay Lightning                  2   \n",
      "15      Colorado Avalanche                  2   \n",
      "16       Los Angeles Kings                  2   \n",
      "17         Quebec Bulldogs                  2   \n",
      "18            Dallas Stars                  1   \n",
      "19         St. Louis Blues                  1   \n",
      "20          Calgary Flames                  1   \n",
      "21     Carolina Hurricanes                  1   \n",
      "22           Anaheim Ducks                  1   \n",
      "23     Chicago Black Hawks                  1   \n",
      "24     Washington Capitals                  1   \n",
      "25        Victoria Cougars                  1   \n",
      "26        Toronto St. Pats                  1   \n",
      "27          Toronto Arenas                  1   \n",
      "28   Seattle Metropolitans                  1   \n",
      "29  Vancouver Millionaires                  1   \n",
      "30      Toronto Blueshirts                  1   \n",
      "\n",
      "                                          Year-Runner  \n",
      "1   1993-Los Angeles Kings,1986-Calgary Flames,197...  \n",
      "2   2008-Pittsburgh Penguins,2002-Carolina Hurrica...  \n",
      "3   1967-Montreal Canadiens,1964-Detroit Red Wings...  \n",
      "4   2011-Vancouver Canucks,1972-New York Rangers,1...  \n",
      "5   1990-Boston Bruins,1988-Boston Bruins,1987-Phi...  \n",
      "6   1927-Boston Bruins,1923-Edmonton Eskimos,1921-...  \n",
      "7   2017-Nashville Predators,2016-San Jose Sharks,...  \n",
      "8   2015-Tampa Bay Lightning,2013-Boston Bruins,20...  \n",
      "9   1994-Vancouver Canucks,1940-Toronto Maple Leaf...  \n",
      "10  1983-Edmonton Oilers,1982-Vancouver Canucks,19...  \n",
      "11  2003-Mighty Ducks of Anaheim,2000-Dallas Stars...  \n",
      "12     1935-Toronto Maple Leafs,1926-Victoria Cougars  \n",
      "13             1975-Buffalo Sabres,1974-Boston Bruins  \n",
      "14              2020-Dallas Stars,2004-Calgary Flames  \n",
      "15       2001-New Jersey Devils,1996-Florida Panthers  \n",
      "16       2014-New York Rangers,2012-New Jersey Devils  \n",
      "17          1913-Sydney Miners,1912-Moncton Victories  \n",
      "18                                1999-Buffalo Sabres  \n",
      "19                                 2019-Boston Bruins  \n",
      "20                            1989-Montreal Canadiens  \n",
      "21                               2006-Edmonton Oilers  \n",
      "22                               2007-Ottawa Senators  \n",
      "23                             1934-Detroit Red Wings  \n",
      "24                          2018-Vegas Golden Knights  \n",
      "25                            1925-Montreal Canadiens  \n",
      "26                        1922-Vancouver Millionaires  \n",
      "27                        1918-Vancouver Millionaires  \n",
      "28                            1917-Montreal Canadiens  \n",
      "29                               1915-Ottawa Senators  \n",
      "30                              1914-Victoria Cougars  \n"
     ]
    }
   ],
   "source": [
    "import pandas as pd         \n",
    "import numpy as np\n",
    "file = \"Stanely_cup_winners_by_year.xlsx\" #import data file\n",
    "df = pd.read_excel(file)\n",
    "Lib={'Team':[], '#Runner-up Finish':[], 'Year-Runner':[]} #create a empty chart to fill in selected data\n",
    "i=0\n",
    "while i<len(df):  #count the runner-up finish and teams\n",
    "    name = df['Team'][i]\n",
    "    run= df['Runner up'][i]\n",
    "    year=df['Year'][i] \n",
    "    a=str(year)+'-'+run\n",
    "    if name in Lib['Team']:\n",
    "        k=0\n",
    "        while k<len(Lib['Team']):\n",
    "            if name in Lib['Team'][k]:\n",
    "                Lib['#Runner-up Finish'][k]=Lib['#Runner-up Finish'][k]+1\n",
    "                Lib['Year-Runner'][k]=Lib['Year-Runner'][k]+','+a\n",
    "            k=k+1\n",
    "    if name not in Lib['Team']:\n",
    "        Lib['Team'].append(name)\n",
    "        Lib['#Runner-up Finish'].append(1)\n",
    "        Lib['Year-Runner'].append(a)\n",
    "   \n",
    "    i=i+1\n",
    "frame=pd.DataFrame(Lib)    #make library into data frame\n",
    "df2 = frame.sort_values(by=['#Runner-up Finish'], ascending=False)\n",
    "df3=df2.set_index(np.arange(1,len(Lib['Team'])+1))\n",
    "print(df3)\n",
    "\n"
   ]
  },
  {
   "cell_type": "markdown",
   "id": "9aa529af",
   "metadata": {},
   "source": [
    "### <span style=\"color: red\"> Task 3:</span> With the help of matminer, 1. Retrive the 'steel_strength' dataset into a dataframe and clean your dataset in needed; 2. Featurize the compositions of the materials; and 3. Perform correlation analysis and drop feature(s) with an efficient greater than abs(0.8) from your dataframe."
   ]
  },
  {
   "cell_type": "markdown",
   "id": "165ceffe",
   "metadata": {},
   "source": [
    "### <span style=\"color: blue\"> Solution:</span>"
   ]
  },
  {
   "cell_type": "code",
   "execution_count": 75,
   "id": "a6076792",
   "metadata": {},
   "outputs": [
    {
     "name": "stdout",
     "output_type": "stream",
     "text": [
      "data after cleaning                                                formula  yield strength  \\\n",
      "0    Fe0.620C0.000953Mn0.000521Si0.00102Cr0.000110N...          2411.5   \n",
      "1    Fe0.623C0.00854Mn0.000104Si0.000203Cr0.147Ni0....          1123.1   \n",
      "3    Fe0.634C0.000478Mn0.000523Si0.00102Cr0.000111N...          2487.3   \n",
      "4    Fe0.636C0.000474Mn0.000518Si0.00101Cr0.000109N...          2249.6   \n",
      "5    Fe0.636C0.00881Mn0.000203Si0.00972Cr0.135Ni0.0...          1328.3   \n",
      "..                                                 ...             ...   \n",
      "307  Fe0.823C0.0176Mn0.00183Si0.000198Cr0.0779Ni0.0...          1722.5   \n",
      "308  Fe0.823Mn0.000618Si0.00101Cr0.0561Ni0.0984Mo0....          1019.0   \n",
      "309  Fe0.825C0.0174Mn0.00175Si0.000201Cr0.0565Ni0.0...          1860.3   \n",
      "310  Fe0.858C0.0191Mn0.00194Si0.000199Cr0.0753Ni0.0...          1812.1   \n",
      "311  Fe0.860C0.0125Mn0.00274Si0.000198Cr0.00439Ni0....          1139.7   \n",
      "\n",
      "     tensile strength  elongation  \n",
      "0              2473.5         7.0  \n",
      "1              1929.2         8.0  \n",
      "3              2514.9         9.0  \n",
      "4              2315.0         8.5  \n",
      "5              1779.5        19.7  \n",
      "..                ...         ...  \n",
      "307            1998.1         5.0  \n",
      "308            1019.0        19.0  \n",
      "309            2156.6         3.0  \n",
      "310            2087.7         2.0  \n",
      "311            1236.3        15.4  \n",
      "\n",
      "[303 rows x 4 columns]\n",
      "There is no duplicated formula\n"
     ]
    },
    {
     "data": {
      "application/vnd.jupyter.widget-view+json": {
       "model_id": "844999a5ad4a49b6a5dca8e7ec719b7e",
       "version_major": 2,
       "version_minor": 0
      },
      "text/plain": [
       "StrToComposition:   0%|          | 0/303 [00:00<?, ?it/s]"
      ]
     },
     "metadata": {},
     "output_type": "display_data"
    },
    {
     "data": {
      "application/vnd.jupyter.widget-view+json": {
       "model_id": "cb18acd972c94b0eac5502f640dc7d4e",
       "version_major": 2,
       "version_minor": 0
      },
      "text/plain": [
       "ElementFraction:   0%|          | 0/303 [00:00<?, ?it/s]"
      ]
     },
     "metadata": {},
     "output_type": "display_data"
    },
    {
     "name": "stdout",
     "output_type": "stream",
     "text": [
      "data after featurizing                                                formula  yield strength  \\\n",
      "0    Fe0.620C0.000953Mn0.000521Si0.00102Cr0.000110N...          2411.5   \n",
      "1    Fe0.623C0.00854Mn0.000104Si0.000203Cr0.147Ni0....          1123.1   \n",
      "3    Fe0.634C0.000478Mn0.000523Si0.00102Cr0.000111N...          2487.3   \n",
      "4    Fe0.636C0.000474Mn0.000518Si0.00101Cr0.000109N...          2249.6   \n",
      "5    Fe0.636C0.00881Mn0.000203Si0.00972Cr0.135Ni0.0...          1328.3   \n",
      "..                                                 ...             ...   \n",
      "307  Fe0.823C0.0176Mn0.00183Si0.000198Cr0.0779Ni0.0...          1722.5   \n",
      "308  Fe0.823Mn0.000618Si0.00101Cr0.0561Ni0.0984Mo0....          1019.0   \n",
      "309  Fe0.825C0.0174Mn0.00175Si0.000201Cr0.0565Ni0.0...          1860.3   \n",
      "310  Fe0.858C0.0191Mn0.00194Si0.000199Cr0.0753Ni0.0...          1812.1   \n",
      "311  Fe0.860C0.0125Mn0.00274Si0.000198Cr0.00439Ni0....          1139.7   \n",
      "\n",
      "     tensile strength  elongation  \\\n",
      "0              2473.5         7.0   \n",
      "1              1929.2         8.0   \n",
      "3              2514.9         9.0   \n",
      "4              2315.0         8.5   \n",
      "5              1779.5        19.7   \n",
      "..                ...         ...   \n",
      "307            1998.1         5.0   \n",
      "308            1019.0        19.0   \n",
      "309            2156.6         3.0   \n",
      "310            2087.7         2.0   \n",
      "311            1236.3        15.4   \n",
      "\n",
      "                                          composition  H  He  Li  Be  B  ...  \\\n",
      "0      (Fe, C, Mn, Si, Cr, Ni, Mo, V, Nb, Co, Al, Ti)  0   0   0   0  0  ...   \n",
      "1    (Fe, C, Mn, Si, Cr, Ni, Mo, V, N, Nb, Co, W, Al)  0   0   0   0  0  ...   \n",
      "3      (Fe, C, Mn, Si, Cr, Ni, Mo, V, Nb, Co, Al, Ti)  0   0   0   0  0  ...   \n",
      "4      (Fe, C, Mn, Si, Cr, Ni, Mo, V, Nb, Co, Al, Ti)  0   0   0   0  0  ...   \n",
      "5          (Fe, C, Mn, Si, Cr, Ni, Mo, V, Nb, Co, Al)  0   0   0   0  0  ...   \n",
      "..                                                ... ..  ..  ..  .. ..  ...   \n",
      "307        (Fe, C, Mn, Si, Cr, Ni, Mo, V, Nb, Co, Al)  0   0   0   0  0  ...   \n",
      "308       (Fe, Mn, Si, Cr, Ni, Mo, V, Nb, Co, Al, Ti)  0   0   0   0  0  ...   \n",
      "309        (Fe, C, Mn, Si, Cr, Ni, Mo, V, Nb, Co, Al)  0   0   0   0  0  ...   \n",
      "310        (Fe, C, Mn, Si, Cr, Ni, Mo, V, Nb, Co, Al)  0   0   0   0  0  ...   \n",
      "311        (Fe, C, Mn, Si, Cr, Ni, Mo, V, Nb, Co, Al)  0   0   0   0  0  ...   \n",
      "\n",
      "     Pu  Am  Cm  Bk  Cf  Es  Fm  Md  No  Lr  \n",
      "0     0   0   0   0   0   0   0   0   0   0  \n",
      "1     0   0   0   0   0   0   0   0   0   0  \n",
      "3     0   0   0   0   0   0   0   0   0   0  \n",
      "4     0   0   0   0   0   0   0   0   0   0  \n",
      "5     0   0   0   0   0   0   0   0   0   0  \n",
      "..   ..  ..  ..  ..  ..  ..  ..  ..  ..  ..  \n",
      "307   0   0   0   0   0   0   0   0   0   0  \n",
      "308   0   0   0   0   0   0   0   0   0   0  \n",
      "309   0   0   0   0   0   0   0   0   0   0  \n",
      "310   0   0   0   0   0   0   0   0   0   0  \n",
      "311   0   0   0   0   0   0   0   0   0   0  \n",
      "\n",
      "[303 rows x 108 columns]\n"
     ]
    }
   ],
   "source": [
    "import numpy as np\n",
    "import matminer\n",
    "\n",
    "from matminer.datasets import load_dataset\n",
    "from matminer.featurizers.conversions import StrToComposition\n",
    "from scipy.stats.stats import pearsonr\n",
    "from matminer.featurizers.composition import ElementFraction\n",
    "df = load_dataset(\"steel_strength\") #retrive the 'steel_strength'\n",
    "df.drop(df.columns[[1,2,3,4,5,6,7,8,9,10,11,12,13]], axis=1, inplace=True) #Cleaning data\n",
    "df_fix = df.dropna(how='any')\n",
    "df_fix1 = df_fix.fillna(0)\n",
    "boolean = df_fix1.duplicated(subset=['formula']).any()\n",
    "print('data after cleaning',df_fix1)\n",
    "if not boolean :\n",
    "    print('There is no duplicated formula')\n",
    "    \n",
    "    \n",
    "df2 = StrToComposition().featurize_dataframe(df_fix1, \"formula\")\n",
    "df2 = ElementFraction().featurize_dataframe(df2, \"composition\") #Featurize the composition of the materials\n",
    "print('data after featurizing',df2)\n",
    "\n",
    "\n",
    "ele=['C','Mn','Si','Cr','Ni','Mo','V','N','Nb','Co','W','Al','Ti']\n",
    "for i  in ele:\n",
    "    if abs(df2[[i,'yield strength']].corr()['yield strength'][0]) >=0.8:\n",
    "        print('The correlation coefficient bewteen',i,'and yield strength is',abs(df2[[i,'yield strength']].corr())) #calculate the correlation coefficient between element composition and yield strength\n",
    "for i  in ele:        \n",
    "    if abs(df2[[i,'tensile strength']].corr()['tensile strength'][0]) >=0.8:\n",
    "        print('The correlation coefficient bewteen',i,'and tensile strength is',abs(df2[[i,'tensile strength']].corr()))#calculate the correlation coefficient between element composition and tensile strength\n",
    "for i  in ele:\n",
    "    if abs(df2[[i,'elongation']].corr()['elongation'][0]) >=0.8:\n",
    "        print('The correlation coefficient bewteen',i,'and elongation is',abs(df2[[i,'elongation']].corr()))#calculate the correlation coefficient between element composition and elongation\n",
    "#no result printed out, meaning there is no correlation between elements composition and yield strength, tensile strength and elongation"
   ]
  },
  {
   "cell_type": "markdown",
   "id": "cc131a0d",
   "metadata": {},
   "source": [
    "### <span style=\"color: red\"> Task 4:</span> Setup a private Github repository for this course. Name it MSE1065_\\<YourName>_\\<YourStudentID>. You will be using this repo for homework submission and course project version control. A good place to get started is [here](https://docs.github.com/en/get-started/quickstart/hello-world). You can choose to use the GitHub via the terminal (recommanded), the [GitHub desktop app](https://desktop.github.com/), or the online GitHub platform. After setting up your repo, make sure to share your repo with [Jae](https://github.com/jae3goals) and [Xiao](https://github.com/xshang93) by adding us as collobrators."
   ]
  },
  {
   "cell_type": "code",
   "execution_count": null,
   "id": "222d9845",
   "metadata": {},
   "outputs": [],
   "source": []
  },
  {
   "cell_type": "code",
   "execution_count": null,
   "id": "36510daf",
   "metadata": {},
   "outputs": [],
   "source": []
  }
 ],
 "metadata": {
  "kernelspec": {
   "display_name": "Python 3 (ipykernel)",
   "language": "python",
   "name": "python3"
  },
  "language_info": {
   "codemirror_mode": {
    "name": "ipython",
    "version": 3
   },
   "file_extension": ".py",
   "mimetype": "text/x-python",
   "name": "python",
   "nbconvert_exporter": "python",
   "pygments_lexer": "ipython3",
   "version": "3.9.7"
  }
 },
 "nbformat": 4,
 "nbformat_minor": 5
}
